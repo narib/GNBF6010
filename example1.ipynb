{
 "cells": [
  {
   "cell_type": "code",
   "execution_count": 1,
   "metadata": {
    "collapsed": true
   },
   "outputs": [],
   "source": [
    "# Simple example for generating predictions with MHCflurry.\n",
    "import mhcflurry"
   ]
  },
  {
   "cell_type": "code",
   "execution_count": 2,
   "metadata": {},
   "outputs": [
    {
     "name": "stderr",
     "output_type": "stream",
     "text": [
      "Using TensorFlow backend.\n",
      "WARNING: Logging before flag parsing goes to stderr.\n",
      "W0605 12:25:31.131366 4512298432 deprecation.py:506] From /Users/tim/miniconda3/envs/py36/lib/python3.6/site-packages/tensorflow_core/python/ops/resource_variable_ops.py:1630: calling BaseResourceVariable.__init__ (from tensorflow.python.ops.resource_variable_ops) with constraint is deprecated and will be removed in a future version.\n",
      "Instructions for updating:\n",
      "If using Keras pass *_constraint arguments to layers.\n"
     ]
    },
    {
     "data": {
      "text/plain": [
       "<Class1PresentationPredictor at 0x148588128 [mhcflurry 1.7.0] generated on Fri May  1 11:08:06 2020>"
      ]
     },
     "execution_count": 2,
     "metadata": {},
     "output_type": "execute_result"
    }
   ],
   "source": [
    "# Load a predictor\n",
    "predictor = mhcflurry.Class1PresentationPredictor.load()\n",
    "predictor"
   ]
  },
  {
   "cell_type": "code",
   "execution_count": 3,
   "metadata": {},
   "outputs": [
    {
     "name": "stderr",
     "output_type": "stream",
     "text": [
      "  0%|          | 0/1 [00:00<?, ?it/s]"
     ]
    },
    {
     "name": "stdout",
     "output_type": "stream",
     "text": [
      "Predicting processing.\n"
     ]
    },
    {
     "name": "stderr",
     "output_type": "stream",
     "text": [
      "W0605 12:25:34.682682 4512298432 module_wrapper.py:139] From /Users/tim/miniconda3/envs/py36/lib/python3.6/site-packages/keras/backend/tensorflow_backend.py:422: The name tf.global_variables is deprecated. Please use tf.compat.v1.global_variables instead.\n",
      "\n",
      "100%|██████████| 1/1 [00:05<00:00,  5.06s/it]\n",
      "  0%|          | 0/1 [00:00<?, ?it/s]"
     ]
    },
    {
     "name": "stdout",
     "output_type": "stream",
     "text": [
      "Predicting affinities.\n"
     ]
    },
    {
     "name": "stderr",
     "output_type": "stream",
     "text": [
      "100%|██████████| 1/1 [00:00<00:00,  2.09it/s]\n"
     ]
    },
    {
     "data": {
      "text/html": [
       "<div>\n",
       "<style scoped>\n",
       "    .dataframe tbody tr th:only-of-type {\n",
       "        vertical-align: middle;\n",
       "    }\n",
       "\n",
       "    .dataframe tbody tr th {\n",
       "        vertical-align: top;\n",
       "    }\n",
       "\n",
       "    .dataframe thead th {\n",
       "        text-align: right;\n",
       "    }\n",
       "</style>\n",
       "<table border=\"1\" class=\"dataframe\">\n",
       "  <thead>\n",
       "    <tr style=\"text-align: right;\">\n",
       "      <th></th>\n",
       "      <th>peptide</th>\n",
       "      <th>peptide_num</th>\n",
       "      <th>sample_name</th>\n",
       "      <th>affinity</th>\n",
       "      <th>best_allele</th>\n",
       "      <th>processing_score</th>\n",
       "      <th>presentation_score</th>\n",
       "      <th>presentation_percentile</th>\n",
       "    </tr>\n",
       "  </thead>\n",
       "  <tbody>\n",
       "    <tr>\n",
       "      <th>0</th>\n",
       "      <td>NLVPMVATV</td>\n",
       "      <td>0</td>\n",
       "      <td>sample1</td>\n",
       "      <td>23.634000</td>\n",
       "      <td>A*02:01</td>\n",
       "      <td>0.456810</td>\n",
       "      <td>0.990288</td>\n",
       "      <td>0.010220</td>\n",
       "    </tr>\n",
       "    <tr>\n",
       "      <th>1</th>\n",
       "      <td>KLLEIPDPDKNWATL</td>\n",
       "      <td>1</td>\n",
       "      <td>sample1</td>\n",
       "      <td>1539.483711</td>\n",
       "      <td>A*02:01</td>\n",
       "      <td>0.605072</td>\n",
       "      <td>0.538179</td>\n",
       "      <td>0.754209</td>\n",
       "    </tr>\n",
       "    <tr>\n",
       "      <th>2</th>\n",
       "      <td>RANDMPEPTIDE</td>\n",
       "      <td>2</td>\n",
       "      <td>sample1</td>\n",
       "      <td>18589.200876</td>\n",
       "      <td>A*02:01</td>\n",
       "      <td>0.006360</td>\n",
       "      <td>0.007214</td>\n",
       "      <td>59.896462</td>\n",
       "    </tr>\n",
       "  </tbody>\n",
       "</table>\n",
       "</div>"
      ],
      "text/plain": [
       "           peptide  peptide_num sample_name      affinity best_allele  \\\n",
       "0        NLVPMVATV            0     sample1     23.634000     A*02:01   \n",
       "1  KLLEIPDPDKNWATL            1     sample1   1539.483711     A*02:01   \n",
       "2     RANDMPEPTIDE            2     sample1  18589.200876     A*02:01   \n",
       "\n",
       "   processing_score  presentation_score  presentation_percentile  \n",
       "0          0.456810            0.990288                 0.010220  \n",
       "1          0.605072            0.538179                 0.754209  \n",
       "2          0.006360            0.007214                59.896462  "
      ]
     },
     "execution_count": 3,
     "metadata": {},
     "output_type": "execute_result"
    }
   ],
   "source": [
    "# Predict for individiual peptides.\n",
    "# Try help(predictor.predict) for other options.\n",
    "results1 = predictor.predict([\"NLVPMVATV\", \"KLLEIPDPDKNWATL\", \"RANDMPEPTIDE\"], [\"A*02:01\"])\n",
    "results1"
   ]
  },
  {
   "cell_type": "code",
   "execution_count": 4,
   "metadata": {
    "scrolled": true
   },
   "outputs": [
    {
     "name": "stderr",
     "output_type": "stream",
     "text": [
      "  0%|          | 0/1 [00:00<?, ?it/s]"
     ]
    },
    {
     "name": "stdout",
     "output_type": "stream",
     "text": [
      "Predicting processing.\n"
     ]
    },
    {
     "name": "stderr",
     "output_type": "stream",
     "text": [
      "100%|██████████| 1/1 [00:08<00:00,  8.92s/it]\n",
      " 40%|████      | 2/5 [00:00<00:00, 18.32it/s]"
     ]
    },
    {
     "name": "stdout",
     "output_type": "stream",
     "text": [
      "Predicting affinities.\n"
     ]
    },
    {
     "name": "stderr",
     "output_type": "stream",
     "text": [
      "100%|██████████| 5/5 [00:00<00:00, 19.89it/s]\n"
     ]
    },
    {
     "data": {
      "text/html": [
       "<div>\n",
       "<style scoped>\n",
       "    .dataframe tbody tr th:only-of-type {\n",
       "        vertical-align: middle;\n",
       "    }\n",
       "\n",
       "    .dataframe tbody tr th {\n",
       "        vertical-align: top;\n",
       "    }\n",
       "\n",
       "    .dataframe thead th {\n",
       "        text-align: right;\n",
       "    }\n",
       "</style>\n",
       "<table border=\"1\" class=\"dataframe\">\n",
       "  <thead>\n",
       "    <tr style=\"text-align: right;\">\n",
       "      <th></th>\n",
       "      <th>sequence_name</th>\n",
       "      <th>pos</th>\n",
       "      <th>peptide</th>\n",
       "      <th>n_flank</th>\n",
       "      <th>c_flank</th>\n",
       "      <th>sample_name</th>\n",
       "      <th>affinity</th>\n",
       "      <th>best_allele</th>\n",
       "      <th>affinity_percentile</th>\n",
       "      <th>processing_score</th>\n",
       "      <th>presentation_score</th>\n",
       "      <th>presentation_percentile</th>\n",
       "    </tr>\n",
       "  </thead>\n",
       "  <tbody>\n",
       "    <tr>\n",
       "      <th>0</th>\n",
       "      <td>protein1</td>\n",
       "      <td>14</td>\n",
       "      <td>LLLVVSNLL</td>\n",
       "      <td>MDSKGSSQKGSRLL</td>\n",
       "      <td></td>\n",
       "      <td>sample1</td>\n",
       "      <td>119.641959</td>\n",
       "      <td>A0201</td>\n",
       "      <td>0.428125</td>\n",
       "      <td>0.103990</td>\n",
       "      <td>0.790948</td>\n",
       "      <td>0.328758</td>\n",
       "    </tr>\n",
       "    <tr>\n",
       "      <th>1</th>\n",
       "      <td>protein1</td>\n",
       "      <td>13</td>\n",
       "      <td>LLLLVVSNL</td>\n",
       "      <td>MDSKGSSQKGSRL</td>\n",
       "      <td>L</td>\n",
       "      <td>sample1</td>\n",
       "      <td>165.667454</td>\n",
       "      <td>A0201</td>\n",
       "      <td>0.513375</td>\n",
       "      <td>0.028328</td>\n",
       "      <td>0.656283</td>\n",
       "      <td>0.540264</td>\n",
       "    </tr>\n",
       "  </tbody>\n",
       "</table>\n",
       "</div>"
      ],
      "text/plain": [
       "  sequence_name  pos    peptide         n_flank c_flank sample_name  \\\n",
       "0      protein1   14  LLLVVSNLL  MDSKGSSQKGSRLL             sample1   \n",
       "1      protein1   13  LLLLVVSNL   MDSKGSSQKGSRL       L     sample1   \n",
       "\n",
       "     affinity best_allele  affinity_percentile  processing_score  \\\n",
       "0  119.641959       A0201             0.428125          0.103990   \n",
       "1  165.667454       A0201             0.513375          0.028328   \n",
       "\n",
       "   presentation_score  presentation_percentile  \n",
       "0            0.790948                 0.328758  \n",
       "1            0.656283                 0.540264  "
      ]
     },
     "execution_count": 4,
     "metadata": {},
     "output_type": "execute_result"
    }
   ],
   "source": [
    "# Predict across protein sequences\n",
    "# Try help(predictor.predict_sequences) for other options.\n",
    "results2 = predictor.predict_sequences(\n",
    "    sequences={\n",
    "        'protein1': \"MDSKGSSQKGSRLLLLLVVSNLL\",\n",
    "        'protein2': \"SSLPTPEDKEQAQQTHH\",\n",
    "    },\n",
    "    alleles={\n",
    "        \"sample1\": [\"A0201\", \"A0301\", \"B0702\"],\n",
    "        \"sample2\": [\"A0101\", \"C0202\"],\n",
    "    },\n",
    "    result=\"filtered\",\n",
    "    comparison_quantity=\"affinity\",\n",
    "    filter_value=500)\n",
    "results2"
   ]
  },
  {
   "cell_type": "code",
   "execution_count": null,
   "metadata": {},
   "outputs": [],
   "source": [
    "\n",
    "import csv\n",
    "import pandas as pd\n",
    "\n",
    "fileslist = [\"1-MHCFLURRY.csv\",\"2-MHCFLURRY.csv\",\"3-MHCFLURRY.csv\",\"4-MHCFLURRY.csv\"]\n",
    "\n",
    "for files in fileslist:\n",
    "    f = open(files)\n",
    "    csv_f = csv.reader(f)\n",
    "    list_pept = []\n",
    "    list_allel = [] \n",
    "    result = []\n",
    "    error = []\n",
    "    resultFilename = 'Result' + \"-\" + files\n",
    "    errorFilename = 'Error' + \"-\" + files\n",
    "    file = open(resultFilename, \"a\")\n",
    "    efile = open(errorFilename, \"a\")\n",
    "    for row in csv_f:\n",
    "        #remove HLA-A, add* after first letter\n",
    "        line = str.split(row[0])\n",
    "        print(line)\n",
    "        list_allel.append(line[1])\n",
    "        list_pept.append(line[0])\n",
    "        try:\n",
    "            prediction=(predictor.predict([line[0]], [line[1]]))\n",
    "            result.append(prediction)\n",
    "            data = prediction.to_csv()\n",
    "            #print(prediction to file)\n",
    "            file.write(data)\n",
    "        except Exception as e:\n",
    "            error_data = {'HLA':[line[1]],'Peptide':[line[0]], 'ErrorMsg':[str(e)]}\n",
    "            # Create DataFrame\n",
    "            df = pd.DataFrame(error_data)\n",
    "            error.append(df)\n",
    "            #print(error to file)\n",
    "            efile.write(df.to_csv())\n",
    "            \n",
    "    file.close()\n",
    "    efile.close()"
   ]
  }
 ],
 "metadata": {
  "kernelspec": {
   "display_name": "Python 3",
   "language": "python",
   "name": "python3"
  },
  "language_info": {
   "codemirror_mode": {
    "name": "ipython",
    "version": 3
   },
   "file_extension": ".py",
   "mimetype": "text/x-python",
   "name": "python",
   "nbconvert_exporter": "python",
   "pygments_lexer": "ipython3",
   "version": "3.8.5"
  }
 },
 "nbformat": 4,
 "nbformat_minor": 4
}
